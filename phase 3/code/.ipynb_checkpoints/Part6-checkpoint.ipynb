{
 "cells": [
  {
   "cell_type": "code",
   "execution_count": 1,
   "metadata": {},
   "outputs": [],
   "source": [
    "import numpy as np\n",
    "import re\n",
    "import itertools\n",
    "from sklearn import svm"
   ]
  },
  {
   "cell_type": "code",
   "execution_count": 2,
   "metadata": {},
   "outputs": [],
   "source": [
    "def pre_processing(file):\n",
    "\n",
    "    with open(file) as f:\n",
    "        lines = f.readlines()\n",
    "    f.close()\n",
    "    \n",
    "    lines = [x.strip() for x in lines] \n",
    "    N = len(lines)\n",
    "\n",
    "    X = np.zeros((N, 46), dtype=float)\n",
    "    Y = np.zeros((N, 2), dtype=float)\n",
    "\n",
    "    for i in range(len(lines)):\n",
    "\n",
    "        for m in re.finditer('\\d*\\d[:][+-]?([0-9]*[.])?[0-9]+', lines[i]):\n",
    "            sign = lines[i][m.start():m.end()].find(':')\n",
    "            X[i][np.int(lines[i][m.start():m.end()][:sign])-1] = np.float(lines[i][m.start():m.end()][sign+1:]) \n",
    "        \n",
    "        Y[i][0] = np.int(lines[i][0])\n",
    "        Y[i][1] = np.int(re.search(\":\\d*\", lines[i]).group(0)[1:])\n",
    "    \n",
    "    return X, Y"
   ]
  },
  {
   "cell_type": "code",
   "execution_count": 3,
   "metadata": {},
   "outputs": [],
   "source": [
    "def transform_pairwise(X, Y):\n",
    "    \n",
    "    X_tp, y_tp = list(), list()\n",
    "    row = 0\n",
    "    \n",
    "    while row < X.shape[0]:\n",
    "\n",
    "        start, end = row, row\n",
    "        while Y[start][1] == Y[end][1]:\n",
    "            end += 1\n",
    "            row += 1\n",
    "            if end == Y.shape[0]:\n",
    "                break\n",
    "\n",
    "        if end - start > 1:\n",
    "            comb = itertools.combinations(range(start, end), 2)\n",
    "            for _, (i, j) in enumerate(comb):\n",
    "                if Y[i][0] != Y[j][0]:\n",
    "                    X_tp.append(X[i] - X[j])\n",
    "                    y_tp.append(np.sign(Y[i][0] - Y[j][0]))\n",
    "                    \n",
    "    for i in range(len(y_tp)):\n",
    "        if y_tp[i] != (-1) ** i:\n",
    "            X_tp[i] = -X_tp[i]\n",
    "            y_tp[i] = -y_tp[i]\n",
    "            \n",
    "    return np.asarray(X_tp), np.asarray(y_tp)"
   ]
  },
  {
   "cell_type": "code",
   "execution_count": 4,
   "metadata": {},
   "outputs": [],
   "source": [
    "class Graph: \n",
    "    def __init__(self,num): \n",
    "        self.graph = {i:[] for i in range(num)}\n",
    "  \n",
    "    def add_edge(self,u,v): \n",
    "        self.graph[u].append(v) \n",
    "  \n",
    "    def topological_util(self, v, visited, stack): \n",
    "        \n",
    "        visited[v] = True\n",
    "        for i in self.graph[v]: \n",
    "            if visited[i] == False: \n",
    "                self.topological_util(i,visited,stack) \n",
    "  \n",
    "        stack.insert(0,v) \n",
    "  \n",
    "\n",
    "    def topological_sort(self): \n",
    "        \n",
    "        visited = [False]*len(list(self.graph))\n",
    "        stack =[] \n",
    "\n",
    "        for i in range(len(list(self.graph))): \n",
    "            if visited[i] == False: \n",
    "                self.topological_util(i,visited,stack) \n",
    "  \n",
    "        return stack"
   ]
  },
  {
   "cell_type": "code",
   "execution_count": 5,
   "metadata": {},
   "outputs": [],
   "source": [
    "def NDCG5(model, X, Y):\n",
    "    \n",
    "    row = 0\n",
    "    total_nDCG = 0\n",
    "    count = 0\n",
    "    \n",
    "    while row < X.shape[0]:\n",
    "\n",
    "        start, end = row, row\n",
    "        while Y[start][1] == Y[end][1]:\n",
    "            end += 1\n",
    "            row += 1\n",
    "            if end == Y.shape[0]:\n",
    "                break\n",
    "        \n",
    "        if end - start > 1:\n",
    "            doc_q, r = X[start:end], Y[start:end][:,0]\n",
    "            comb = itertools.combinations(range(len(doc_q)), 2)\n",
    "            graph = Graph(len(doc_q))\n",
    "            \n",
    "            for _, (i, j) in enumerate(comb):\n",
    "                sign = model.predict((doc_q[i] - doc_q[j]).reshape(1, -1))\n",
    "                if sign[0] == 1:\n",
    "                    graph.add_edge(i, j)\n",
    "                else:\n",
    "                    graph.add_edge(j, i)\n",
    "            \n",
    "            ans_q = graph.topological_sort()[:5]    \n",
    "            DCG = r[ans_q[0]]\n",
    "            \n",
    "            for k in range(1, len(ans_q)):\n",
    "                DCG += r[ans_q[k]] / np.log2(1+k)\n",
    "            \n",
    "            ideal_order = sorted(r, reverse=True)[:5]\n",
    "            IDCG = ideal_order[0]\n",
    "            \n",
    "            for i in range(1, len(ideal_order)):\n",
    "                IDCG += ideal_order[i]/np.log2(1+i)\n",
    "            \n",
    "            if IDCG != 0:\n",
    "                count += 1\n",
    "                total_nDCG += (DCG / IDCG)\n",
    "    \n",
    "    if count > 0:\n",
    "        total_nDCG /= count\n",
    "    \n",
    "    return total_nDCG"
   ]
  },
  {
   "cell_type": "markdown",
   "metadata": {},
   "source": [
    "# Training & Validation"
   ]
  },
  {
   "cell_type": "code",
   "execution_count": 6,
   "metadata": {},
   "outputs": [],
   "source": [
    "X, Y = pre_processing(\"data/train.txt\")\n",
    "X_train, y_train = transform_pairwise(X, Y)\n",
    "X_val, Y_val = pre_processing(\"data/vali.txt\")"
   ]
  },
  {
   "cell_type": "code",
   "execution_count": 20,
   "metadata": {},
   "outputs": [
    {
     "name": "stdout",
     "output_type": "stream",
     "text": [
      "NDCG@5= 0.6812444465646103 , reg param= 0.0009765625\n",
      "NDCG@5= 0.682034653799786 , reg param= 0.001953125\n",
      "NDCG@5= 0.6836987341763024 , reg param= 0.00390625\n",
      "NDCG@5= 0.6851905151163139 , reg param= 0.0078125\n",
      "NDCG@5= 0.6880043093377225 , reg param= 0.015625\n",
      "NDCG@5= 0.688713987016742 , reg param= 0.03125\n",
      "NDCG@5= 0.6901058807325507 , reg param= 0.0625\n",
      "NDCG@5= 0.6902232401656424 , reg param= 0.125\n",
      "NDCG@5= 0.6905462531674014 , reg param= 0.25\n",
      "NDCG@5= 0.690586576784637 , reg param= 0.5\n",
      "NDCG@5= 0.6891097764466372 , reg param= 1\n",
      "NDCG@5= 0.6859355183227771 , reg param= 2\n",
      "NDCG@5= 0.6827332899706711 , reg param= 4\n"
     ]
    },
    {
     "name": "stderr",
     "output_type": "stream",
     "text": [
      "//anaconda3/lib/python3.7/site-packages/sklearn/svm/base.py:929: ConvergenceWarning: Liblinear failed to converge, increase the number of iterations.\n",
      "  \"the number of iterations.\", ConvergenceWarning)\n"
     ]
    },
    {
     "name": "stdout",
     "output_type": "stream",
     "text": [
      "NDCG@5= 0.6819465120086807 , reg param= 8\n"
     ]
    },
    {
     "name": "stderr",
     "output_type": "stream",
     "text": [
      "//anaconda3/lib/python3.7/site-packages/sklearn/svm/base.py:929: ConvergenceWarning: Liblinear failed to converge, increase the number of iterations.\n",
      "  \"the number of iterations.\", ConvergenceWarning)\n"
     ]
    },
    {
     "name": "stdout",
     "output_type": "stream",
     "text": [
      "NDCG@5= 0.6837409976673199 , reg param= 16\n"
     ]
    },
    {
     "name": "stderr",
     "output_type": "stream",
     "text": [
      "//anaconda3/lib/python3.7/site-packages/sklearn/svm/base.py:929: ConvergenceWarning: Liblinear failed to converge, increase the number of iterations.\n",
      "  \"the number of iterations.\", ConvergenceWarning)\n"
     ]
    },
    {
     "name": "stdout",
     "output_type": "stream",
     "text": [
      "NDCG@5= 0.6837409976673199 , reg param= 32\n"
     ]
    },
    {
     "name": "stderr",
     "output_type": "stream",
     "text": [
      "//anaconda3/lib/python3.7/site-packages/sklearn/svm/base.py:929: ConvergenceWarning: Liblinear failed to converge, increase the number of iterations.\n",
      "  \"the number of iterations.\", ConvergenceWarning)\n"
     ]
    },
    {
     "name": "stdout",
     "output_type": "stream",
     "text": [
      "NDCG@5= 0.6890205291671505 , reg param= 64\n"
     ]
    },
    {
     "name": "stderr",
     "output_type": "stream",
     "text": [
      "//anaconda3/lib/python3.7/site-packages/sklearn/svm/base.py:929: ConvergenceWarning: Liblinear failed to converge, increase the number of iterations.\n",
      "  \"the number of iterations.\", ConvergenceWarning)\n"
     ]
    },
    {
     "name": "stdout",
     "output_type": "stream",
     "text": [
      "NDCG@5= 0.6842526402993285 , reg param= 128\n"
     ]
    },
    {
     "name": "stderr",
     "output_type": "stream",
     "text": [
      "//anaconda3/lib/python3.7/site-packages/sklearn/svm/base.py:929: ConvergenceWarning: Liblinear failed to converge, increase the number of iterations.\n",
      "  \"the number of iterations.\", ConvergenceWarning)\n"
     ]
    },
    {
     "name": "stdout",
     "output_type": "stream",
     "text": [
      "NDCG@5= 0.6651102482719813 , reg param= 256\n"
     ]
    },
    {
     "name": "stderr",
     "output_type": "stream",
     "text": [
      "//anaconda3/lib/python3.7/site-packages/sklearn/svm/base.py:929: ConvergenceWarning: Liblinear failed to converge, increase the number of iterations.\n",
      "  \"the number of iterations.\", ConvergenceWarning)\n"
     ]
    },
    {
     "name": "stdout",
     "output_type": "stream",
     "text": [
      "NDCG@5= 0.6033815899548614 , reg param= 512\n"
     ]
    }
   ],
   "source": [
    "for k in range(-10, 10):\n",
    "    reg = 2 ** k\n",
    "    linear_svm = svm.LinearSVC(C=reg, max_iter=4000)\n",
    "    linear_svm.fit(X_train, y_train)\n",
    "    print(\"NDCG@5=\", NDCG5(linear_svm, X_val, Y_val), \", reg param=\", reg)"
   ]
  },
  {
   "cell_type": "code",
   "execution_count": 24,
   "metadata": {},
   "outputs": [
    {
     "name": "stdout",
     "output_type": "stream",
     "text": [
      "NDCG@5= 0.6892224311580171 , reg param= 0.850781952259728\n",
      "NDCG@5= 0.6892224311580171 , reg param= 0.6889684439796843\n",
      "NDCG@5= 0.690586576784637 , reg param= 0.4561258313781682\n",
      "NDCG@5= 0.6892224311580171 , reg param= 0.8199644648650208\n",
      "NDCG@5= 0.6892224311580171 , reg param= 0.854878680701946\n",
      "NDCG@5= 0.6892224311580171 , reg param= 0.7883337086444778\n",
      "NDCG@5= 0.6892224311580171 , reg param= 0.6898502408626326\n",
      "NDCG@5= 0.690586576784637 , reg param= 0.35109277470240063\n",
      "NDCG@5= 0.690586576784637 , reg param= 0.42082429817673594\n",
      "NDCG@5= 0.6892224311580171 , reg param= 0.8764932553944303\n"
     ]
    }
   ],
   "source": [
    "for _ in range(10):\n",
    "    parm = np.random.uniform(0.25, 1)\n",
    "    linear_svm = svm.LinearSVC(C=parm)\n",
    "    linear_svm.fit(X_train, y_train)\n",
    "    print(\"NDCG@5=\", NDCG5(linear_svm, X_val, Y_val), \", reg param=\", parm)"
   ]
  },
  {
   "cell_type": "code",
   "execution_count": 22,
   "metadata": {},
   "outputs": [
    {
     "data": {
      "text/plain": [
       "LinearSVC(C=0.449, class_weight=None, dual=True, fit_intercept=True,\n",
       "          intercept_scaling=1, loss='squared_hinge', max_iter=4000,\n",
       "          multi_class='ovr', penalty='l2', random_state=None, tol=0.0001,\n",
       "          verbose=0)"
      ]
     },
     "execution_count": 22,
     "metadata": {},
     "output_type": "execute_result"
    }
   ],
   "source": [
    "best_reg = 0.456\n",
    "best_model = svm.LinearSVC(C=best_reg, max_iter=4000)\n",
    "best_model.fit(X_train, y_train)"
   ]
  },
  {
   "cell_type": "code",
   "execution_count": 23,
   "metadata": {},
   "outputs": [
    {
     "data": {
      "text/plain": [
       "0.690586576784637"
      ]
     },
     "execution_count": 23,
     "metadata": {},
     "output_type": "execute_result"
    }
   ],
   "source": [
    "NDCG5(best_model, X_val, Y_val)"
   ]
  },
  {
   "cell_type": "markdown",
   "metadata": {},
   "source": [
    "# Test"
   ]
  },
  {
   "cell_type": "code",
   "execution_count": 25,
   "metadata": {},
   "outputs": [
    {
     "data": {
      "text/plain": [
       "0.6770960130026611"
      ]
     },
     "execution_count": 25,
     "metadata": {},
     "output_type": "execute_result"
    }
   ],
   "source": [
    "X_test, Y_test = pre_processing(\"data/test.txt\")\n",
    "NDCG5(best_model, X_test, Y_test)"
   ]
  },
  {
   "cell_type": "code",
   "execution_count": null,
   "metadata": {},
   "outputs": [],
   "source": []
  }
 ],
 "metadata": {
  "kernelspec": {
   "display_name": "Python 3",
   "language": "python",
   "name": "python3"
  },
  "language_info": {
   "codemirror_mode": {
    "name": "ipython",
    "version": 3
   },
   "file_extension": ".py",
   "mimetype": "text/x-python",
   "name": "python",
   "nbconvert_exporter": "python",
   "pygments_lexer": "ipython3",
   "version": "3.7.3"
  }
 },
 "nbformat": 4,
 "nbformat_minor": 2
}
